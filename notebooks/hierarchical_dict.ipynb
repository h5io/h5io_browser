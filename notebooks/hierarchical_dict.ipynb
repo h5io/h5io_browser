{
 "cells": [
  {
   "cell_type": "markdown",
   "id": "9ba5b6df-e6f5-4398-861b-69dc0d13ea41",
   "metadata": {},
   "source": [
    "# Extend `h5io` interface\n",
    "In addition to the `Pointer()` class, the `h5io_browser` package also extends the interface of `h5io` with the following four functions: \n",
    "* `read_dict_from_hdf()` to read an hierarchical dictionary from the HDF5 file.\n",
    "* `write_dict_to_hdf()` to write an hierarchical dictionrary from the HDF5 file.\n",
    "* `list_hdf()` to list the content of an HDF5 file.\n",
    "* `delete_item()` to delete an item in a given HDF5 file.\n",
    "\n",
    "A hierarchical python dictionary can be written in two way, either as a python dictionary with `h5io` automatically determining which groups and nodes are going to be created or by the user specifying the hierarchy of the objects in the dictionary. The second approach allows the user to reload individual objects from the HDF5 file later on, which is one of the key advantages of using a hierarchical data fromat like HDF5.  "
   ]
  },
  {
   "cell_type": "code",
   "execution_count": 1,
   "id": "99736989-d7e2-4d79-a939-958041d9714d",
   "metadata": {},
   "outputs": [],
   "source": [
    "import os\n",
    "import numpy as np\n",
    "from h5io_browser import read_dict_from_hdf, write_dict_to_hdf, list_hdf, delete_item"
   ]
  },
  {
   "cell_type": "markdown",
   "id": "43478823-1bce-4b73-9a85-a245a1e92686",
   "metadata": {},
   "source": [
    "# Write dictionary\n",
    "In this case `h5io` automatically determines which groups and nodes are created. More specifially, only the keys in the root level of the dictionary are resolved."
   ]
  },
  {
   "cell_type": "code",
   "execution_count": 2,
   "id": "684a55fd-1b0a-43fc-9bb1-f1ec8df07417",
   "metadata": {},
   "outputs": [],
   "source": [
    "data = {\"a\": [1, 2], \"b\": 3, \"c\": {\"d\": 4, \"e\": np.array([5, 6])}}"
   ]
  },
  {
   "cell_type": "code",
   "execution_count": 3,
   "id": "bd7cef8b-2acc-4b75-8729-c6a2661c5eb7",
   "metadata": {},
   "outputs": [],
   "source": [
    "file_name = \"test_1.h5\"\n",
    "if os.path.exists(file_name):\n",
    "    os.remove(file_name)"
   ]
  },
  {
   "cell_type": "code",
   "execution_count": 4,
   "id": "1d01baea-68da-4603-94bf-4523ffdc8421",
   "metadata": {},
   "outputs": [],
   "source": [
    "write_dict_to_hdf(file_name=file_name, data_dict=data)"
   ]
  },
  {
   "cell_type": "markdown",
   "id": "8ad62927-2f44-42eb-a2de-4fb7eee22f86",
   "metadata": {},
   "source": [
    "The content of this HDF5 file is always represented as the list of keys of the root level of the dictionary. "
   ]
  },
  {
   "cell_type": "code",
   "execution_count": 5,
   "id": "c3716c0c-bf99-4be5-bc74-0b55406dbf09",
   "metadata": {},
   "outputs": [
    {
     "data": {
      "text/plain": [
       "(['/a', '/b', '/c'], [])"
      ]
     },
     "execution_count": 5,
     "metadata": {},
     "output_type": "execute_result"
    }
   ],
   "source": [
    "list_hdf(file_name=file_name, h5_path=\"/\")"
   ]
  },
  {
   "cell_type": "markdown",
   "id": "69c2d29c-7251-45e1-86e2-81a1b2ab4e5c",
   "metadata": {},
   "source": [
    "Consequently, it makes no difference if `read_dict_from_hdf()` is called with `recursive=True` or `recursive=False`:"
   ]
  },
  {
   "cell_type": "code",
   "execution_count": 6,
   "id": "55f2d115-a067-4102-a638-1e1a42294799",
   "metadata": {},
   "outputs": [
    {
     "data": {
      "text/plain": [
       "{'a': [1, 2], 'b': 3, 'c': {'d': 4, 'e': array([5, 6])}}"
      ]
     },
     "execution_count": 6,
     "metadata": {},
     "output_type": "execute_result"
    }
   ],
   "source": [
    "read_dict_from_hdf(file_name=file_name, h5_path=\"/\")"
   ]
  },
  {
   "cell_type": "code",
   "execution_count": 7,
   "id": "5bd4fe29-ea4d-4208-b3e0-35a16416ab23",
   "metadata": {},
   "outputs": [
    {
     "data": {
      "text/plain": [
       "{'a': [1, 2], 'b': 3, 'c': {'d': 4, 'e': array([5, 6])}}"
      ]
     },
     "execution_count": 7,
     "metadata": {},
     "output_type": "execute_result"
    }
   ],
   "source": [
    "read_dict_from_hdf(file_name=file_name, h5_path=\"/\", recursive=True)"
   ]
  },
  {
   "cell_type": "markdown",
   "id": "369a285a-dcc8-4644-808f-0cfa8e358737",
   "metadata": {},
   "source": [
    "## Delete data \n",
    "In the same way keys from the root dictionary can be deleted using the `delete_item()` function:"
   ]
  },
  {
   "cell_type": "code",
   "execution_count": 8,
   "id": "a2434668-5e0c-4a6a-8700-7418f8b96139",
   "metadata": {},
   "outputs": [],
   "source": [
    "delete_item(file_name=file_name, h5_path=\"a\")"
   ]
  },
  {
   "cell_type": "code",
   "execution_count": 9,
   "id": "0b2a8fe0-2044-49d8-a455-b8d9caa4b19e",
   "metadata": {},
   "outputs": [
    {
     "data": {
      "text/plain": [
       "(['/b', '/c'], [])"
      ]
     },
     "execution_count": 9,
     "metadata": {},
     "output_type": "execute_result"
    }
   ],
   "source": [
    "list_hdf(file_name=file_name, h5_path=\"/\")"
   ]
  },
  {
   "cell_type": "code",
   "execution_count": 10,
   "id": "9072fb1b-1a74-46eb-a3fc-2925bb2f5d3d",
   "metadata": {},
   "outputs": [
    {
     "data": {
      "text/plain": [
       "{'b': 3, 'c': {'d': 4, 'e': array([5, 6])}}"
      ]
     },
     "execution_count": 10,
     "metadata": {},
     "output_type": "execute_result"
    }
   ],
   "source": [
    "read_dict_from_hdf(file_name=file_name, h5_path=\"/\")"
   ]
  },
  {
   "cell_type": "markdown",
   "id": "927bc243-dc9b-4c64-8eb2-b69279841177",
   "metadata": {},
   "source": [
    "# Write hierarchical dictionary\n",
    "The alternative approach is for the user to specify which keys should be resolved. This can be done, by reducing the dictionary to a single level, namely convert the hierarchical dictionary from above in a flat dictionary with the keys providing the path inside the hierarchy."
   ]
  },
  {
   "cell_type": "code",
   "execution_count": 11,
   "id": "fdd487a8-4b2d-4be9-9d23-fc7bcd2161e7",
   "metadata": {},
   "outputs": [],
   "source": [
    "data_structured = {\n",
    "    \"a\": data[\"a\"],\n",
    "    \"b\": data[\"b\"],\n",
    "    \"c/d\": data[\"c\"][\"d\"],\n",
    "    \"c/e\": data[\"c\"][\"e\"],\n",
    "}"
   ]
  },
  {
   "cell_type": "code",
   "execution_count": 12,
   "id": "c60e8dac-7be2-4f15-ad50-693cf1a9a825",
   "metadata": {},
   "outputs": [],
   "source": [
    "file_name = \"test_2.h5\"\n",
    "if os.path.exists(file_name):\n",
    "    os.remove(file_name)"
   ]
  },
  {
   "cell_type": "code",
   "execution_count": 13,
   "id": "5578a6eb-ba71-4cd4-a30a-c66ce0ba83b5",
   "metadata": {},
   "outputs": [],
   "source": [
    "write_dict_to_hdf(file_name=file_name, data_dict=data_structured)"
   ]
  },
  {
   "cell_type": "markdown",
   "id": "b8694390-2e7e-416f-a1f5-18c04d1893e0",
   "metadata": {},
   "source": [
    "## Read data \n",
    "In this case the hierarchical part of the dictionary, in this case the key `c` is represented as an HDF5 group. In this way the nodes inside the HDF5 group can be read individually:"
   ]
  },
  {
   "cell_type": "code",
   "execution_count": 14,
   "id": "4f5e20ff-4892-4d20-9d3c-f36d9766abe3",
   "metadata": {},
   "outputs": [
    {
     "data": {
      "text/plain": [
       "(['/a', '/b'], ['/c'])"
      ]
     },
     "execution_count": 14,
     "metadata": {},
     "output_type": "execute_result"
    }
   ],
   "source": [
    "list_hdf(file_name=file_name, h5_path=\"/\")"
   ]
  },
  {
   "cell_type": "code",
   "execution_count": 15,
   "id": "6bb55150-8414-46d6-a42e-16a083e2764d",
   "metadata": {},
   "outputs": [
    {
     "data": {
      "text/plain": [
       "(['/c/d', '/c/e'], [])"
      ]
     },
     "execution_count": 15,
     "metadata": {},
     "output_type": "execute_result"
    }
   ],
   "source": [
    "list_hdf(file_name=file_name, h5_path=\"/c\")"
   ]
  },
  {
   "cell_type": "code",
   "execution_count": 16,
   "id": "6f7632a5-e02b-4416-8d0d-5bb42b3ecabe",
   "metadata": {},
   "outputs": [
    {
     "data": {
      "text/plain": [
       "{'a': [1, 2], 'b': 3}"
      ]
     },
     "execution_count": 16,
     "metadata": {},
     "output_type": "execute_result"
    }
   ],
   "source": [
    "read_dict_from_hdf(file_name=file_name, h5_path=\"/\")"
   ]
  },
  {
   "cell_type": "code",
   "execution_count": 17,
   "id": "dd6cd667-59a9-4ec8-9fe1-de311186ff6b",
   "metadata": {},
   "outputs": [
    {
     "data": {
      "text/plain": [
       "{'a': [1, 2], 'b': 3, 'c': {'d': 4, 'e': array([5, 6])}}"
      ]
     },
     "execution_count": 17,
     "metadata": {},
     "output_type": "execute_result"
    }
   ],
   "source": [
    "read_dict_from_hdf(file_name=file_name, h5_path=\"/\", recursive=True)"
   ]
  },
  {
   "cell_type": "markdown",
   "id": "caed8613-3daf-41fc-929b-3e4ed7a75ff9",
   "metadata": {},
   "source": [
    "## Delete data\n",
    "Deleting data works just like before:"
   ]
  },
  {
   "cell_type": "code",
   "execution_count": 18,
   "id": "cc596603-b59c-4906-9884-e9803f0ef8f2",
   "metadata": {},
   "outputs": [],
   "source": [
    "delete_item(file_name=file_name, h5_path=\"a\")"
   ]
  },
  {
   "cell_type": "code",
   "execution_count": 19,
   "id": "4c622922-35ab-4d72-924e-84c99aebe143",
   "metadata": {},
   "outputs": [
    {
     "data": {
      "text/plain": [
       "(['/b'], ['/c'])"
      ]
     },
     "execution_count": 19,
     "metadata": {},
     "output_type": "execute_result"
    }
   ],
   "source": [
    "list_hdf(file_name=file_name, h5_path=\"/\")"
   ]
  },
  {
   "cell_type": "code",
   "execution_count": 20,
   "id": "ae95fb42-1e0b-44d4-83d8-1bc99b1578bc",
   "metadata": {},
   "outputs": [
    {
     "data": {
      "text/plain": [
       "{'b': 3}"
      ]
     },
     "execution_count": 20,
     "metadata": {},
     "output_type": "execute_result"
    }
   ],
   "source": [
    "read_dict_from_hdf(file_name=file_name, h5_path=\"/\")"
   ]
  },
  {
   "cell_type": "code",
   "execution_count": 21,
   "id": "4ff2db76-5b8f-4d90-9d87-74091e5f4152",
   "metadata": {},
   "outputs": [
    {
     "data": {
      "text/plain": [
       "{'b': 3, 'c': {'d': 4, 'e': array([5, 6])}}"
      ]
     },
     "execution_count": 21,
     "metadata": {},
     "output_type": "execute_result"
    }
   ],
   "source": [
    "read_dict_from_hdf(file_name=file_name, h5_path=\"/\", recursive=True)"
   ]
  }
 ],
 "metadata": {
  "kernelspec": {
   "display_name": "Python 3 (ipykernel)",
   "language": "python",
   "name": "python3"
  },
  "language_info": {
   "codemirror_mode": {
    "name": "ipython",
    "version": 3
   },
   "file_extension": ".py",
   "mimetype": "text/x-python",
   "name": "python",
   "nbconvert_exporter": "python",
   "pygments_lexer": "ipython3",
   "version": "3.11.9"
  }
 },
 "nbformat": 4,
 "nbformat_minor": 5
}
