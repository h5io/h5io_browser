{
 "cells": [
  {
   "cell_type": "markdown",
   "id": "210a0341-a275-447f-b26a-07a509b904e1",
   "metadata": {},
   "source": [
    "# Import Module"
   ]
  },
  {
   "cell_type": "markdown",
   "id": "f5c829c9-9f6b-425b-a95d-1d59ab14ac20",
   "metadata": {},
   "source": [
    "Start by importing the `h5io_browser` module:"
   ]
  },
  {
   "cell_type": "code",
   "execution_count": 1,
   "id": "7353d5ed-e975-4976-b0a5-5ac98238e100",
   "metadata": {},
   "outputs": [],
   "source": [
    "import h5io_browser as hb"
   ]
  },
  {
   "cell_type": "markdown",
   "id": "901909e8-ebae-4a14-87d6-d48e210eb332",
   "metadata": {},
   "source": [
    "From the `h5io_browser` module the `Pointer()` object is created to access a new HDF5 file named `new.h5`:"
   ]
  },
  {
   "cell_type": "code",
   "execution_count": 2,
   "id": "eed2b696-e1c2-4af8-bfbd-4f28f1f5b1db",
   "metadata": {},
   "outputs": [],
   "source": [
    "hp = hb.Pointer(file_name=\"new.h5\")"
   ]
  },
  {
   "cell_type": "markdown",
   "id": "55c0d4a9-e945-4b69-afae-ce3a491f65b8",
   "metadata": {},
   "source": [
    "# Write Data "
   ]
  },
  {
   "cell_type": "markdown",
   "id": "95161dee-88a3-47f5-9603-a6eccacb3028",
   "metadata": {},
   "source": [
    "For demonstration three different objects are written to the HDF5 file: \n",
    "\n",
    "* a list with the numbers one and two is stored in the HDF5 path `data/a_list`\n",
    "* an integer number is stored in the HDF5 path `data/an_integer_number`\n",
    "* a dictionary is stored in the HDF5 path `data/sub_path/a_dictionary`\n",
    "\n",
    "This can either be done using the edge notation, known from accessing python dictionaries, or alternatively using the `write_dict()` function which can store multiple objects in the HDF5 file, while opening it only once."
   ]
  },
  {
   "cell_type": "code",
   "execution_count": 3,
   "id": "8aae2757-1410-4ca0-b90f-5f2ecfd69d6c",
   "metadata": {},
   "outputs": [],
   "source": [
    "hp[\"data/a_list\"] = [1, 2]\n",
    "hp.write_dict(data_dict={\n",
    "    \"data/an_integer_number\": 3,\n",
    "    \"data/sub_path/a_dictionary\": {\"d\": 4, \"e\": 5},\n",
    "})"
   ]
  },
  {
   "cell_type": "markdown",
   "id": "96855cc2-5015-4f8c-bd49-adcf02642391",
   "metadata": {},
   "source": [
    "# Read Data "
   ]
  },
  {
   "cell_type": "markdown",
   "id": "8105b2b0-c9c1-4f40-b1a8-35be9d94173c",
   "metadata": {},
   "source": [
    "One strength of the `h5io_browser` package is the support for interactive python environments like, Jupyter notebooks. To browse the HDF5 file by executing the `Pointer()` object:"
   ]
  },
  {
   "cell_type": "code",
   "execution_count": 4,
   "id": "fabb0a77-9ef9-40de-bd63-28facbcd953d",
   "metadata": {},
   "outputs": [
    {
     "data": {
      "application/json": {
       "data": {
        "a_list": "[1, 2]",
        "an_integer_number": "3",
        "sub_path": {
         "a_dictionary": {
          "d": "4",
          "e": "5"
         }
        }
       }
      },
      "text/plain": [
       "<h5io_browser.pointer.Pointer at 0x105cc9e50>"
      ]
     },
     "execution_count": 4,
     "metadata": {},
     "output_type": "execute_result"
    }
   ],
   "source": [
    "hp"
   ]
  },
  {
   "cell_type": "markdown",
   "id": "48ffd151-ddfd-489f-b09e-9ad5346c9dd0",
   "metadata": {},
   "source": [
    "In comparison the string representation lists the `file_name`, `h5_path` as well as the `nodes` and `groups` at this `h5_path`:"
   ]
  },
  {
   "cell_type": "code",
   "execution_count": 5,
   "id": "63cbf0ad-8200-4fe6-a0a2-98eb56427850",
   "metadata": {},
   "outputs": [
    {
     "data": {
      "text/plain": [
       "'Pointer(file_name=\"/Users/jan/notebooks/2023/2023-12-27-hdf5-browser/new.h5\", h5_path=\"/\") {\\'groups\\': [\\'data\\'], \\'nodes\\': []}'"
      ]
     },
     "execution_count": 5,
     "metadata": {},
     "output_type": "execute_result"
    }
   ],
   "source": [
    "str(hp)"
   ]
  },
  {
   "cell_type": "markdown",
   "id": "449a142b-0fc1-4106-9363-b9c0c74ba9b3",
   "metadata": {},
   "source": [
    "List content of the HDF5 file at the current `h5_path` using the `list_all()` function: "
   ]
  },
  {
   "cell_type": "code",
   "execution_count": 6,
   "id": "e663a2e3-556e-4b41-87a4-809b8f8abb0c",
   "metadata": {},
   "outputs": [
    {
     "data": {
      "text/plain": [
       "['data']"
      ]
     },
     "execution_count": 6,
     "metadata": {},
     "output_type": "execute_result"
    }
   ],
   "source": [
    "hp.list_all()"
   ]
  },
  {
   "cell_type": "markdown",
   "id": "bcc99152-b737-42e4-94da-2ce95b6903cf",
   "metadata": {},
   "source": [
    "In analogy the `groups` and `nodes` of any `h5_path` either relative to the current `h5_path` or as absolute `h5_path` can be analysed using the `list_h5_path()`:"
   ]
  },
  {
   "cell_type": "code",
   "execution_count": 7,
   "id": "14c96ea5-4b16-491f-adac-d81bd3012a7b",
   "metadata": {},
   "outputs": [
    {
     "data": {
      "text/plain": [
       "{'groups': ['sub_path'], 'nodes': ['a_list', 'an_integer_number']}"
      ]
     },
     "execution_count": 7,
     "metadata": {},
     "output_type": "execute_result"
    }
   ],
   "source": [
    "hp.list_h5_path(h5_path=\"data\")"
   ]
  },
  {
   "cell_type": "markdown",
   "id": "9444b1f0-1fcc-45bf-97cd-9cfdb4e58a6c",
   "metadata": {},
   "source": [
    "To continue browsing the HDF5 file the edge bracket notation can be used, just like it s commonly used for python dictionaries to browse the HDF5 file:"
   ]
  },
  {
   "cell_type": "code",
   "execution_count": 8,
   "id": "13cd10dd-2add-4b65-a9c3-1adebc65df45",
   "metadata": {},
   "outputs": [
    {
     "data": {
      "text/plain": [
       "['a_list', 'an_integer_number', 'sub_path']"
      ]
     },
     "execution_count": 8,
     "metadata": {},
     "output_type": "execute_result"
    }
   ],
   "source": [
    "hp[\"data\"].list_all()"
   ]
  },
  {
   "cell_type": "markdown",
   "id": "59305c11-9c78-418f-8cd0-f86c91f80287",
   "metadata": {},
   "source": [
    "The object which is returned is again a Pointer with the updated `h5_path`, which changed from `/` to `/data`:"
   ]
  },
  {
   "cell_type": "code",
   "execution_count": 9,
   "id": "fd8ef2a0-3ed3-4070-98e8-938c7bb7db76",
   "metadata": {},
   "outputs": [
    {
     "data": {
      "text/plain": [
       "('/', '/data')"
      ]
     },
     "execution_count": 9,
     "metadata": {},
     "output_type": "execute_result"
    }
   ],
   "source": [
    "hp.h5_path, hp[\"data\"].h5_path"
   ]
  },
  {
   "cell_type": "markdown",
   "id": "7a3ca02c-45e8-47b4-859b-74fae6888f8d",
   "metadata": {},
   "source": [
    "Finally, individual nodes of the HDF5 file can be loaded with the same syntax using the `/` notation known from the file system, or by combining multiple edge breakets:"
   ]
  },
  {
   "cell_type": "code",
   "execution_count": 10,
   "id": "67c7847b-1ae6-47c6-9af1-aa6a408c94b1",
   "metadata": {},
   "outputs": [
    {
     "data": {
      "text/plain": [
       "([1, 2], [1, 2])"
      ]
     },
     "execution_count": 10,
     "metadata": {},
     "output_type": "execute_result"
    }
   ],
   "source": [
    "hp[\"data/a_list\"], hp[\"data\"][\"a_list\"]"
   ]
  },
  {
   "cell_type": "markdown",
   "id": "847ff451-602c-45da-b3d3-d769a449f9b4",
   "metadata": {},
   "source": [
    "# Convert to Dictionary "
   ]
  },
  {
   "cell_type": "markdown",
   "id": "3d0b890d-7cbe-4ff9-a6ae-8d4e3e2434b8",
   "metadata": {},
   "source": [
    "To computationally browse through the contents of an HDF5 file, the `to_dict()` method extends the interactive browsing capabilities. By default it returns a flat dictionary with the keys representing the `h5_path` of the individual nodes and the values being the data stored in these nodes. Internally, this loads the whole tree structure, starting from the current `h5_path`, so depending on the size of the HDF5 file this can take quite some time:"
   ]
  },
  {
   "cell_type": "code",
   "execution_count": 11,
   "id": "f4473ded-cb6b-4d99-aaf9-a565a275acb5",
   "metadata": {},
   "outputs": [
    {
     "data": {
      "text/plain": [
       "{'data/a_list': [1, 2],\n",
       " 'data/an_integer_number': 3,\n",
       " 'data/sub_path/a_dictionary': {'d': 4, 'e': 5}}"
      ]
     },
     "execution_count": 11,
     "metadata": {},
     "output_type": "execute_result"
    }
   ],
   "source": [
    "hp.to_dict()"
   ]
  },
  {
   "cell_type": "markdown",
   "id": "6b7d2f44-bb18-4e70-8398-c081b66fc46b",
   "metadata": {},
   "source": [
    "An alternative representation, is the hierarchical representation which can be enabled by the `hierarchical` being set to `True`. Then the data is represented as a nested dictionary: "
   ]
  },
  {
   "cell_type": "code",
   "execution_count": 12,
   "id": "0253e00b-222f-4203-8de1-cdf8e2db2695",
   "metadata": {},
   "outputs": [
    {
     "data": {
      "text/plain": [
       "{'data': {'a_list': [1, 2],\n",
       "  'an_integer_number': 3,\n",
       "  'sub_path': {'a_dictionary': {'d': 4, 'e': 5}}}}"
      ]
     },
     "execution_count": 12,
     "metadata": {},
     "output_type": "execute_result"
    }
   ],
   "source": [
    "hp.to_dict(hierarchical=True)"
   ]
  },
  {
   "cell_type": "markdown",
   "id": "b84537a0-f2a1-4b55-84c9-3bffa9121ef7",
   "metadata": {},
   "source": [
    "# With Statement"
   ]
  },
  {
   "cell_type": "markdown",
   "id": "2ca01e09-d8b2-4408-ad40-41c3842b64cb",
   "metadata": {},
   "source": [
    "For compatibility with other file access methods, the `h5io_browser` package also supports the with statement notation. Still technically this does not change the behavior, even when opened with a with statement the HDF5 file is closed between individual function calls."
   ]
  },
  {
   "cell_type": "code",
   "execution_count": 13,
   "id": "fd95b7f5-1f9a-4944-8707-fd96238488d7",
   "metadata": {},
   "outputs": [
    {
     "name": "stdout",
     "output_type": "stream",
     "text": [
      "[1, 2]\n"
     ]
    }
   ],
   "source": [
    "with hb.Pointer(file_name=\"new.h5\") as hp:\n",
    "    print(hp[\"data/a_list\"])"
   ]
  },
  {
   "cell_type": "markdown",
   "id": "ed8a18e9-fc58-4f48-8469-b0a58fd6cc17",
   "metadata": {},
   "source": [
    "# Delete Data"
   ]
  },
  {
   "cell_type": "markdown",
   "id": "ffde0c66-8b01-4958-ad01-4ff32ea45bad",
   "metadata": {},
   "source": [
    "To delete data from an HDF5 file using the `h5io_browser` the standard python `del` function can be used in analogy to deleting items from a python dictionary. To demonstrate the deletion a new node is added named `data/new/entry/test`:"
   ]
  },
  {
   "cell_type": "code",
   "execution_count": 14,
   "id": "86b9c22b-82e6-400f-b791-e82340af5dc2",
   "metadata": {},
   "outputs": [],
   "source": [
    "hp[\"data/new/entry/test\"] = 4"
   ]
  },
  {
   "cell_type": "markdown",
   "id": "83e6f565-8143-4d26-aac5-05a31a380bee",
   "metadata": {},
   "source": [
    "To list the node, the `to_dict()` function is used with the `hierarchical` parameter to highlight the nested structure:"
   ]
  },
  {
   "cell_type": "code",
   "execution_count": 15,
   "id": "ff41c56e-952d-4f86-a608-23f8023fba88",
   "metadata": {},
   "outputs": [
    {
     "data": {
      "text/plain": [
       "{'entry': {'test': 4}}"
      ]
     },
     "execution_count": 15,
     "metadata": {},
     "output_type": "execute_result"
    }
   ],
   "source": [
    "hp[\"data/new\"].to_dict(hierarchical=True)"
   ]
  },
  {
   "cell_type": "markdown",
   "id": "bbd38c93-35c9-43aa-a1dc-b3caef133278",
   "metadata": {},
   "source": [
    "The node is then deleted using the `del` function. While this removes the node from the index the file size remains the same, which is one of the limitations of the HDF5 format. Consequently, it is not recommended to create and remove nodes in the HDF5 files frequently: "
   ]
  },
  {
   "cell_type": "code",
   "execution_count": 16,
   "id": "e12ad6af-8cf3-42df-8113-55b05aaf36a6",
   "metadata": {},
   "outputs": [
    {
     "data": {
      "text/plain": [
       "18484"
      ]
     },
     "execution_count": 16,
     "metadata": {},
     "output_type": "execute_result"
    }
   ],
   "source": [
    "hp.file_size()"
   ]
  },
  {
   "cell_type": "code",
   "execution_count": 17,
   "id": "904e214c-5d7f-489c-b77d-777cc414fdfa",
   "metadata": {},
   "outputs": [],
   "source": [
    "del hp[\"data/new/entry/test\"]"
   ]
  },
  {
   "cell_type": "code",
   "execution_count": 18,
   "id": "cae41e7f-eaaa-49ef-9107-b7efc67eda7c",
   "metadata": {},
   "outputs": [
    {
     "data": {
      "text/plain": [
       "18484"
      ]
     },
     "execution_count": 18,
     "metadata": {},
     "output_type": "execute_result"
    }
   ],
   "source": [
    "hp.file_size()"
   ]
  },
  {
   "cell_type": "markdown",
   "id": "e6386be0-041a-4a0d-9353-2a5edde4c8bf",
   "metadata": {},
   "source": [
    "Even after the deletion of the last node the groups are still included in the HDF5 file. They are not listed by the `to_dict()` function, as it recursively iterates over all nodes below the current `h5_path`:"
   ]
  },
  {
   "cell_type": "code",
   "execution_count": 19,
   "id": "cf3f1032-7826-4ef4-a2b8-1e183b00a544",
   "metadata": {},
   "outputs": [
    {
     "data": {
      "text/plain": [
       "{}"
      ]
     },
     "execution_count": 19,
     "metadata": {},
     "output_type": "execute_result"
    }
   ],
   "source": [
    "hp[\"data/new\"].to_dict(hierarchical=True)"
   ]
  },
  {
   "cell_type": "markdown",
   "id": "b46e430a-bd4e-4173-a07c-770f9f8091f8",
   "metadata": {},
   "source": [
    "Still with the `list_all()` function lists all nodes and groups at a current `h5_path` including empty groups, like the `entry` group in this case: "
   ]
  },
  {
   "cell_type": "code",
   "execution_count": 20,
   "id": "c73703aa-aa9f-4586-91bf-1f4f21dd3012",
   "metadata": {},
   "outputs": [
    {
     "data": {
      "text/plain": [
       "['entry']"
      ]
     },
     "execution_count": 20,
     "metadata": {},
     "output_type": "execute_result"
    }
   ],
   "source": [
    "hp[\"data/new\"].list_all()"
   ]
  },
  {
   "cell_type": "markdown",
   "id": "15fe7c94-f85e-4c52-aa6f-d2e782d77dbf",
   "metadata": {},
   "source": [
    "To remove the group from the HDF5 file the same `del` command is used:"
   ]
  },
  {
   "cell_type": "code",
   "execution_count": 21,
   "id": "04cbff32-f715-4c04-bec0-745022f446b2",
   "metadata": {},
   "outputs": [],
   "source": [
    "del hp[\"data/new\"]"
   ]
  },
  {
   "cell_type": "markdown",
   "id": "887c1286-2ff0-4756-be5b-67180936f8f3",
   "metadata": {},
   "source": [
    "After deleting both the newly created groups and their nodes the original hierarchy of the HDF5 file is restored:"
   ]
  },
  {
   "cell_type": "code",
   "execution_count": 22,
   "id": "1e0200db-eed7-44da-9e5e-6af361157720",
   "metadata": {},
   "outputs": [
    {
     "data": {
      "text/plain": [
       "{'data': {'a_list': [1, 2],\n",
       "  'an_integer_number': 3,\n",
       "  'sub_path': {'a_dictionary': {'d': 4, 'e': 5}}}}"
      ]
     },
     "execution_count": 22,
     "metadata": {},
     "output_type": "execute_result"
    }
   ],
   "source": [
    "hp.to_dict(hierarchical=True)"
   ]
  },
  {
   "cell_type": "markdown",
   "id": "a02dab40-38aa-4143-a75e-74a95c976bce",
   "metadata": {},
   "source": [
    "Still even after deleting the nodes from the HDF5 file, the file size remains the same: "
   ]
  },
  {
   "cell_type": "code",
   "execution_count": 23,
   "id": "a6c5028a-354b-4dd5-be64-94499a174978",
   "metadata": {},
   "outputs": [
    {
     "data": {
      "text/plain": [
       "18484"
      ]
     },
     "execution_count": 23,
     "metadata": {},
     "output_type": "execute_result"
    }
   ],
   "source": [
    "hp.file_size()"
   ]
  },
  {
   "cell_type": "markdown",
   "id": "812579c2-1626-4d18-bfc2-4b0029155947",
   "metadata": {},
   "source": [
    "# Loop over Nodes"
   ]
  },
  {
   "cell_type": "markdown",
   "id": "8e86bfec-6850-42c6-8a95-10ec184beb19",
   "metadata": {},
   "source": [
    "To simplify iterating recursively over all nodes contained in the selected `h5_path` the `Pointer()` object can be used as iterator:"
   ]
  },
  {
   "cell_type": "code",
   "execution_count": 24,
   "id": "dbd031e5-2379-4815-8865-1be2c67e99bf",
   "metadata": {},
   "outputs": [
    {
     "data": {
      "text/plain": [
       "{'a_list': [1, 2],\n",
       " 'an_integer_number': 3,\n",
       " 'sub_path/a_dictionary': {'d': 4, 'e': 5}}"
      ]
     },
     "execution_count": 24,
     "metadata": {},
     "output_type": "execute_result"
    }
   ],
   "source": [
    "hp_data = hp[\"data\"]\n",
    "{h5_path: hp_data[h5_path] for h5_path in hp_data}"
   ]
  },
  {
   "cell_type": "markdown",
   "id": "5f2bc229-6987-415b-83fb-b49307839a6a",
   "metadata": {},
   "source": [
    "# Copy Data"
   ]
  },
  {
   "cell_type": "markdown",
   "id": "686fa1aa-256d-444f-914a-96c0af335fdf",
   "metadata": {},
   "source": [
    "In addition to adding, browsing and removing data from an existing HDF5 file, the `Pointer()` object can also be used to copy data inside a given HDF5 file or copy data from one HDF5 file to another. A new HDF5 file is created, named `copy.h5`:"
   ]
  },
  {
   "cell_type": "code",
   "execution_count": 25,
   "id": "7301e6ca-70c1-4343-8692-f6dcbe5b0d78",
   "metadata": {},
   "outputs": [],
   "source": [
    "hp_copy = hb.Pointer(file_name=\"copy.h5\")"
   ]
  },
  {
   "cell_type": "markdown",
   "id": "236340c8-b149-4cb4-8237-f9ebd804ed29",
   "metadata": {},
   "source": [
    "The data is transferred from the existing `Pointer()` object to the new HDF5 file using the `copy_to()` functions:"
   ]
  },
  {
   "cell_type": "code",
   "execution_count": 26,
   "id": "082e5ad8-f5d6-41f3-a633-f2110b3b6040",
   "metadata": {},
   "outputs": [
    {
     "data": {
      "application/json": {
       "data": {
        "a_list": "[1, 2]",
        "an_integer_number": "3",
        "sub_path": {
         "a_dictionary": {
          "d": "4",
          "e": "5"
         }
        }
       }
      },
      "text/plain": [
       "<h5io_browser.pointer.Pointer at 0x108f46050>"
      ]
     },
     "execution_count": 26,
     "metadata": {},
     "output_type": "execute_result"
    }
   ],
   "source": [
    "hp[\"data\"].copy_to(hp_copy)\n",
    "hp_copy"
   ]
  }
 ],
 "metadata": {
  "kernelspec": {
   "display_name": "Python 3 (ipykernel)",
   "language": "python",
   "name": "python3"
  },
  "language_info": {
   "codemirror_mode": {
    "name": "ipython",
    "version": 3
   },
   "file_extension": ".py",
   "mimetype": "text/x-python",
   "name": "python",
   "nbconvert_exporter": "python",
   "pygments_lexer": "ipython3",
   "version": "3.11.7"
  }
 },
 "nbformat": 4,
 "nbformat_minor": 5
}
